{
  "nbformat": 4,
  "nbformat_minor": 0,
  "metadata": {
    "colab": {
      "provenance": [],
      "gpuType": "T4"
    },
    "kernelspec": {
      "name": "python3",
      "display_name": "Python 3"
    },
    "language_info": {
      "name": "python"
    },
    "accelerator": "GPU"
  },
  "cells": [
    {
      "cell_type": "code",
      "execution_count": 33,
      "metadata": {
        "colab": {
          "base_uri": "https://localhost:8080/",
          "height": 458
        },
        "id": "fpbXgyKysfMT",
        "outputId": "7854040a-f223-4b5c-8639-f108771ddc30"
      },
      "outputs": [
        {
          "output_type": "execute_result",
          "data": {
            "text/plain": [
              "3995      0\n",
              "8641      0\n",
              "44709     0\n",
              "116987    1\n",
              "67141     1\n",
              "         ..\n",
              "34399     1\n",
              "112177    0\n",
              "68611     0\n",
              "37947     0\n",
              "19132     0\n",
              "Name: Is_Fraud?, Length: 23806, dtype: int64"
            ],
            "text/html": [
              "<div>\n",
              "<style scoped>\n",
              "    .dataframe tbody tr th:only-of-type {\n",
              "        vertical-align: middle;\n",
              "    }\n",
              "\n",
              "    .dataframe tbody tr th {\n",
              "        vertical-align: top;\n",
              "    }\n",
              "\n",
              "    .dataframe thead th {\n",
              "        text-align: right;\n",
              "    }\n",
              "</style>\n",
              "<table border=\"1\" class=\"dataframe\">\n",
              "  <thead>\n",
              "    <tr style=\"text-align: right;\">\n",
              "      <th></th>\n",
              "      <th>Is_Fraud?</th>\n",
              "    </tr>\n",
              "  </thead>\n",
              "  <tbody>\n",
              "    <tr>\n",
              "      <th>3995</th>\n",
              "      <td>0</td>\n",
              "    </tr>\n",
              "    <tr>\n",
              "      <th>8641</th>\n",
              "      <td>0</td>\n",
              "    </tr>\n",
              "    <tr>\n",
              "      <th>44709</th>\n",
              "      <td>0</td>\n",
              "    </tr>\n",
              "    <tr>\n",
              "      <th>116987</th>\n",
              "      <td>1</td>\n",
              "    </tr>\n",
              "    <tr>\n",
              "      <th>67141</th>\n",
              "      <td>1</td>\n",
              "    </tr>\n",
              "    <tr>\n",
              "      <th>...</th>\n",
              "      <td>...</td>\n",
              "    </tr>\n",
              "    <tr>\n",
              "      <th>34399</th>\n",
              "      <td>1</td>\n",
              "    </tr>\n",
              "    <tr>\n",
              "      <th>112177</th>\n",
              "      <td>0</td>\n",
              "    </tr>\n",
              "    <tr>\n",
              "      <th>68611</th>\n",
              "      <td>0</td>\n",
              "    </tr>\n",
              "    <tr>\n",
              "      <th>37947</th>\n",
              "      <td>0</td>\n",
              "    </tr>\n",
              "    <tr>\n",
              "      <th>19132</th>\n",
              "      <td>0</td>\n",
              "    </tr>\n",
              "  </tbody>\n",
              "</table>\n",
              "<p>23806 rows × 1 columns</p>\n",
              "</div><br><label><b>dtype:</b> int64</label>"
            ]
          },
          "metadata": {},
          "execution_count": 33
        }
      ],
      "source": [
        "import pandas as pd\n",
        "import numpy as np\n",
        "import networkx as nx\n",
        "import torch\n",
        "import torch.nn as nn\n",
        "import torch.optim as optim\n",
        "import xgboost as xgb\n",
        "from torch.utils.data import DataLoader, TensorDataset\n",
        "from sklearn.preprocessing import LabelEncoder, StandardScaler\n",
        "from sklearn.model_selection import train_test_split\n",
        "\n",
        "# Load Dataset\n",
        "df = pd.read_csv(\"/content/cleaned_balanced_dataset.csv\")  # Change filename accordingly\n",
        "\n",
        "# Convert 'Is_Fraud?' to binary (1 = Fraud, 0 = Non-Fraud)\n",
        "df[\"Is_Fraud?\"] = df[\"Is_Fraud?\"].map({\"Yes\": 1, \"No\": 0})\n",
        "\n",
        "# Convert 'Time' (HH:MM) to numerical (total minutes in a day)\n",
        "df[\"Hour\"] = df[\"Time\"].apply(lambda x: int(x.split(\":\")[0]))\n",
        "df[\"Minute\"] = df[\"Time\"].apply(lambda x: int(x.split(\":\")[1]))\n",
        "df[\"Time_in_Minutes\"] = df[\"Hour\"] * 60 + df[\"Minute\"]\n",
        "df.drop(columns=[\"Time\", \"Hour\", \"Minute\"], inplace=True)\n",
        "\n",
        "# Label Encode Categorical Features\n",
        "categorical_cols = [\"Use_Chip\", \"Merchant_City\", \"Merchant_State\", \"Zip\"]\n",
        "label_encoders = {col: LabelEncoder() for col in categorical_cols}\n",
        "for col in categorical_cols:\n",
        "    df[col] = label_encoders[col].fit_transform(df[col])\n",
        "\n",
        "# Standardize Numerical Features\n",
        "scaler = StandardScaler()\n",
        "df[[\"Amount\", \"Time_in_Minutes\"]] = scaler.fit_transform(df[[\"Amount\", \"Time_in_Minutes\"]])\n",
        "\n",
        "# Split Features & Target\n",
        "X = df.drop(columns=[\"Is_Fraud?\"])\n",
        "y = df[\"Is_Fraud?\"]\n",
        "\n",
        "# Train-Test Split (80-20)\n",
        "X_train, X_test, y_train, y_test = train_test_split(X, y, test_size=0.2, random_state=42)\n",
        "X_test\n",
        "y_test"
      ]
    },
    {
      "cell_type": "code",
      "source": [
        "import pandas as pd\n",
        "import numpy as np\n",
        "import networkx as nx\n",
        "import torch\n",
        "import torch.nn as nn\n",
        "import torch.optim as optim\n",
        "import xgboost as xgb\n",
        "from torch.utils.data import DataLoader, TensorDataset\n",
        "from sklearn.preprocessing import LabelEncoder, StandardScaler\n",
        "from sklearn.model_selection import train_test_split"
      ],
      "metadata": {
        "id": "f20G2y4Oc2q2"
      },
      "execution_count": 7,
      "outputs": []
    },
    {
      "cell_type": "code",
      "source": [
        "# Train XGBoost Classifier\n",
        "xgb_model = xgb.XGBClassifier(n_estimators=100, max_depth=5, learning_rate=0.1, eval_metric=\"logloss\")\n",
        "xgb_model.fit(X_train, y_train)\n",
        "\n",
        "# Predict & Evaluate\n",
        "y_pred_xgb = xgb_model.predict(X_test)\n",
        "print(\"✅ XGBoost Model Trained Successfully!\")\n"
      ],
      "metadata": {
        "colab": {
          "base_uri": "https://localhost:8080/"
        },
        "id": "pNylIPEtKLze",
        "outputId": "3bdb2227-1e28-467c-bfca-2a6ec83a46d4"
      },
      "execution_count": 4,
      "outputs": [
        {
          "output_type": "stream",
          "name": "stdout",
          "text": [
            "✅ XGBoost Model Trained Successfully!\n"
          ]
        }
      ]
    },
    {
      "cell_type": "code",
      "source": [
        "# LSTM Requires Sequential Data\n",
        "sequence_length = 5  # Use last 5 transactions for prediction\n",
        "features = [\"Amount\", \"Time_in_Minutes\", \"User\", \"Merchant_Name\", \"MCC\"]\n",
        "sequences = []\n",
        "labels = []\n",
        "\n",
        "for i in range(len(df) - sequence_length):\n",
        "    seq_data = df[features].iloc[i : i + sequence_length].values\n",
        "    sequences.append(seq_data)\n",
        "    labels.append(df[\"Is_Fraud?\"].iloc[i + sequence_length])\n",
        "\n",
        "# Convert to PyTorch tensors\n",
        "sequences = torch.tensor(np.array(sequences), dtype=torch.float32)\n",
        "labels = torch.tensor(labels, dtype=torch.float32)\n",
        "\n",
        "# Split into Train & Test\n",
        "train_size = int(0.8 * len(sequences))\n",
        "train_sequences, test_sequences = sequences[:train_size], sequences[train_size:]\n",
        "train_labels, test_labels = labels[:train_size], labels[train_size:]\n",
        "\n",
        "# DataLoader\n",
        "train_loader = DataLoader(TensorDataset(train_sequences, train_labels), batch_size=32, shuffle=True)\n",
        "test_loader = DataLoader(TensorDataset(test_sequences, test_labels), batch_size=32, shuffle=False)\n"
      ],
      "metadata": {
        "id": "Yj88YkN0K8ab"
      },
      "execution_count": 5,
      "outputs": []
    },
    {
      "cell_type": "code",
      "source": [
        "# Define the time-dependent features (must be 5 as per LSTM input size)\n",
        "time_series_features = [\"Amount\", \"Time_in_Minutes\", \"User\", \"Merchant_Name\", \"MCC\"]\n",
        "\n",
        "# Extract only these features for LSTM\n",
        "df_lstm = df[time_series_features]\n",
        "\n",
        "\n",
        "class LSTMModel(nn.Module):\n",
        "    def __init__(self, input_size, hidden_size, output_size):\n",
        "        super(LSTMModel, self).__init__()\n",
        "        self.lstm = nn.LSTM(input_size, hidden_size, batch_first=True)\n",
        "        self.fc = nn.Linear(hidden_size, output_size)\n",
        "        self.sigmoid = nn.Sigmoid()\n",
        "\n",
        "    def forward(self, x):\n",
        "        lstm_out, _ = self.lstm(x)\n",
        "        final_out = self.fc(lstm_out[:, -1, :])\n",
        "        return self.sigmoid(final_out)\n",
        "\n",
        "# Set input_size = 5 (Matching the selected features)\n",
        "lstm_model = LSTMModel(input_size=5, hidden_size=64, output_size=1)\n",
        "\n",
        "criterion = nn.BCELoss()\n",
        "optimizer = optim.Adam(lstm_model.parameters(), lr=0.001)\n",
        "\n",
        "# Train LSTM\n",
        "for epoch in range(5):  # Training for 5 epochs\n",
        "    for seq_batch, label_batch in train_loader:\n",
        "        optimizer.zero_grad()\n",
        "        outputs = lstm_model(seq_batch).squeeze()\n",
        "        loss = criterion(outputs, label_batch)\n",
        "        loss.backward()\n",
        "        optimizer.step()\n",
        "\n",
        "print(\"✅ LSTM Model Trained Successfully!\")"
      ],
      "metadata": {
        "colab": {
          "base_uri": "https://localhost:8080/"
        },
        "id": "Evq3Mh8mLBNy",
        "outputId": "ca276dd2-fd69-45ae-c31e-7cf27f65f51c"
      },
      "execution_count": 15,
      "outputs": [
        {
          "output_type": "stream",
          "name": "stdout",
          "text": [
            "✅ LSTM Model Trained Successfully!\n"
          ]
        }
      ]
    },
    {
      "cell_type": "code",
      "source": [
        "# Construct Transaction Graph\n",
        "G = nx.Graph()\n",
        "for _, row in df.iterrows():\n",
        "    G.add_edge(row[\"User\"], row[\"Merchant_Name\"], amount=row[\"Amount\"])\n",
        "\n",
        "# Convert Graph to Adjacency Matrix (for fraud ring detection)\n",
        "adj_matrix = nx.adjacency_matrix(G)\n",
        "\n",
        "# Display Graph Statistics\n",
        "graph_info = {\n",
        "    \"Number of Nodes\": G.number_of_nodes(),\n",
        "    \"Number of Edges\": G.number_of_edges(),\n",
        "    \"Graph Density\": nx.density(G),\n",
        "}\n",
        "print(\"Graph Information:\", graph_info)\n",
        "\n",
        "print(\"✅ Fraud Ring Graph Ready!\")\n"
      ],
      "metadata": {
        "colab": {
          "base_uri": "https://localhost:8080/"
        },
        "id": "0rmw9NalMYPa",
        "outputId": "3b9d6537-632c-4b95-e12e-48197548135b"
      },
      "execution_count": 7,
      "outputs": [
        {
          "output_type": "stream",
          "name": "stdout",
          "text": [
            "Graph Information: {'Number of Nodes': 10477, 'Number of Edges': 53511, 'Graph Density': 0.0009750808540302267}\n",
            "✅ Fraud Ring Graph Ready!\n"
          ]
        }
      ]
    },
    {
      "cell_type": "code",
      "source": [
        "import numpy as np\n",
        "\n",
        "def predict_fraud(transaction):\n",
        "    \"\"\"Predict fraud probability using Hybrid Model\"\"\"\n",
        "\n",
        "    # Extract only the required LSTM features\n",
        "    transaction_lstm = transaction[:5]  # Ensure it has only 5 features\n",
        "\n",
        "    # XGBoost Prediction\n",
        "    xgb_pred = xgb_model.predict_proba([transaction])[0][1]  # XGBoost gives probability of fraud\n",
        "\n",
        "    # LSTM expects a sequence of transactions.\n",
        "    lstm_input = np.tile(transaction_lstm, (5, 1))  # Repeat transaction 5 times\n",
        "    lstm_input = torch.tensor(lstm_input, dtype=torch.float32).unsqueeze(0)  # Shape: (1, 5, 5)\n",
        "\n",
        "    # LSTM Prediction\n",
        "    with torch.no_grad():\n",
        "        lstm_pred = lstm_model(lstm_input).item()  # Convert tensor to float\n",
        "\n",
        "    # Combine predictions (Weighted Average)\n",
        "    final_score = (0.6 * xgb_pred) + (0.4 * lstm_pred)\n",
        "    return final_score\n",
        "\n",
        "# Example Test Transaction\n",
        "test_transaction = X_test.iloc[4].values  # Get first test transaction\n",
        "fraud_risk = predict_fraud(test_transaction)\n",
        "\n",
        "print(f\"🚨 Fraud Risk Score: {fraud_risk:.4f}\")\n",
        "if fraud_risk > 0.5:\n",
        "    print(\"⚠️ High Fraud Risk!\")\n",
        "else:\n",
        "    print(\"✅ Transaction is Safe.\")\n"
      ],
      "metadata": {
        "colab": {
          "base_uri": "https://localhost:8080/"
        },
        "id": "hR87KHJrOGCD",
        "outputId": "40fd8842-28be-42e9-a895-009ae1537ce1"
      },
      "execution_count": 34,
      "outputs": [
        {
          "output_type": "stream",
          "name": "stdout",
          "text": [
            "🚨 Fraud Risk Score: 0.7232\n",
            "⚠️ High Fraud Risk!\n"
          ]
        }
      ]
    },
    {
      "cell_type": "code",
      "source": [
        "X_test.iloc[0].values"
      ],
      "metadata": {
        "colab": {
          "base_uri": "https://localhost:8080/"
        },
        "id": "Uywz05IQOThj",
        "outputId": "1a2e7c18-7c67-49a1-962f-f72e52623921"
      },
      "execution_count": 10,
      "outputs": [
        {
          "output_type": "execute_result",
          "data": {
            "text/plain": [
              "array([ 1.39900000e+03,  1.00000000e+00,  2.01400000e+03,  2.00000000e+00,\n",
              "        1.80000000e+01,  8.93769762e-01,  2.00000000e+00, -4.28246677e+18,\n",
              "        6.66000000e+02,  9.10000000e+01,  6.09300000e+03,  4.82900000e+03,\n",
              "       -9.32074863e-01])"
            ]
          },
          "metadata": {},
          "execution_count": 10
        }
      ]
    },
    {
      "cell_type": "code",
      "source": [
        "y_test.iloc[4]"
      ],
      "metadata": {
        "colab": {
          "base_uri": "https://localhost:8080/"
        },
        "id": "Akeq22yHQecr",
        "outputId": "50aff354-ad55-4183-863b-191303215698"
      },
      "execution_count": 35,
      "outputs": [
        {
          "output_type": "execute_result",
          "data": {
            "text/plain": [
              "1"
            ]
          },
          "metadata": {},
          "execution_count": 35
        }
      ]
    },
    {
      "cell_type": "code",
      "source": [
        "from sklearn.metrics import accuracy_score\n",
        "\n",
        "# Predict fraud risk for the entire test dataset\n",
        "predictions = [predict_fraud(row) for row in X_test.values]\n",
        "\n",
        "# Convert fraud scores to binary classification (0 = safe, 1 = fraud)\n",
        "binary_predictions = [1 if score > 0.5 else 0 for score in predictions]\n",
        "\n",
        "# Calculate accuracy\n",
        "accuracy = accuracy_score(y_test, binary_predictions)\n",
        "\n",
        "print(f\"\\n🎯 Model Accuracy: {accuracy:.4f}\")\n"
      ],
      "metadata": {
        "colab": {
          "base_uri": "https://localhost:8080/"
        },
        "id": "PvFMvXUbXG6k",
        "outputId": "82977180-c16c-456b-85c3-e99e38e9b777"
      },
      "execution_count": 20,
      "outputs": [
        {
          "output_type": "stream",
          "name": "stdout",
          "text": [
            "\n",
            "🎯 Model Accuracy: 0.9577\n"
          ]
        }
      ]
    },
    {
      "cell_type": "code",
      "source": [
        "from sklearn.metrics import accuracy_score, precision_score, recall_score, f1_score, confusion_matrix\n",
        "\n",
        "# Predict fraud risk for all test transactions\n",
        "predictions = [predict_fraud(row) for row in X_test.values]\n",
        "\n",
        "# Convert fraud scores to binary labels (1 = Fraud, 0 = Safe)\n",
        "binary_predictions = [1 if score > 0.5 else 0 for score in predictions]\n",
        "\n",
        "# Calculate evaluation metrics\n",
        "accuracy = accuracy_score(y_test, binary_predictions)\n",
        "precision = precision_score(y_test, binary_predictions)\n",
        "recall = recall_score(y_test, binary_predictions)\n",
        "f1 = f1_score(y_test, binary_predictions)\n",
        "conf_matrix = confusion_matrix(y_test, binary_predictions)\n",
        "\n",
        "# Print all metrics\n",
        "print(f\"\\n🎯 Model Evaluation Metrics:\")\n",
        "print(f\"✅ Accuracy: {accuracy:.4f}\")\n",
        "print(f\"⚠️ Precision: {precision:.4f}\")\n",
        "print(f\"🔍 Recall: {recall:.4f}\")\n",
        "print(f\"📊 F1-score: {f1:.4f}\")\n",
        "print(\"\\n🛑 Confusion Matrix:\")\n",
        "print(conf_matrix)\n"
      ],
      "metadata": {
        "colab": {
          "base_uri": "https://localhost:8080/"
        },
        "id": "BY5EpIKVXY8i",
        "outputId": "0e22ec9c-6ca0-4781-84e9-9f39fbdaddfc"
      },
      "execution_count": 21,
      "outputs": [
        {
          "output_type": "stream",
          "name": "stdout",
          "text": [
            "\n",
            "🎯 Model Evaluation Metrics:\n",
            "✅ Accuracy: 0.9577\n",
            "⚠️ Precision: 0.9539\n",
            "🔍 Recall: 0.8675\n",
            "📊 F1-score: 0.9086\n",
            "\n",
            "🛑 Confusion Matrix:\n",
            "[[17785   242]\n",
            " [  766  5013]]\n"
          ]
        }
      ]
    },
    {
      "cell_type": "code",
      "source": [
        "from sklearn.metrics import confusion_matrix, classification_report, accuracy_score, precision_score, recall_score, f1_score\n",
        "import seaborn as sns\n",
        "import matplotlib.pyplot as plt\n",
        "import numpy as np\n",
        "\n",
        "# Predict fraud risk for all test transactions\n",
        "y_pred_prob = [predict_fraud(row) for row in X_test.values]\n",
        "\n",
        "# Convert fraud risk scores to binary class (1 = Fraud, 0 = Not Fraud) using 0.5 threshold\n",
        "y_pred = np.array([1 if score > 0.3 else 0 for score in y_pred_prob])\n",
        "\n",
        "# Generate Confusion Matrix\n",
        "cm = confusion_matrix(y_test, y_pred)\n",
        "\n",
        "# Print Confusion Matrix\n",
        "print(\"Confusion Matrix:\\n\", cm)\n",
        "\n",
        "# Plot Confusion Matrix\n",
        "plt.figure(figsize=(6,5))\n",
        "sns.heatmap(cm, annot=True, fmt=\"d\", cmap=\"Blues\", xticklabels=[\"Not Fraud\", \"Fraud\"], yticklabels=[\"Not Fraud\", \"Fraud\"])\n",
        "plt.xlabel(\"Predicted Label\")\n",
        "plt.ylabel(\"True Label\")\n",
        "plt.title(\"Confusion Matrix\")\n",
        "plt.show()\n",
        "\n",
        "# Calculate Evaluation Metrics\n",
        "accuracy = accuracy_score(y_test, y_pred)\n",
        "precision = precision_score(y_test, y_pred)\n",
        "recall = recall_score(y_test, y_pred)\n",
        "f1 = f1_score(y_test, y_pred)\n",
        "\n",
        "# Print Metrics\n",
        "print(f\"\\n🎯 Model Performance Metrics:\")\n",
        "print(f\"✅ Accuracy: {accuracy:.4f}\")\n",
        "print(f\"⚠️ Precision: {precision:.4f}\")\n",
        "print(f\"🔍 Recall: {recall:.4f}\")\n",
        "print(f\"📊 F1-score: {f1:.4f}\")\n",
        "\n",
        "# Print Detailed Classification Report\n",
        "print(\"\\n📑 Classification Report:\\n\", classification_report(y_test, y_pred))\n"
      ],
      "metadata": {
        "colab": {
          "base_uri": "https://localhost:8080/",
          "height": 844
        },
        "id": "dGILg5B2X78O",
        "outputId": "4a472d5b-6274-4387-d304-7d17c4c5202b"
      },
      "execution_count": 16,
      "outputs": [
        {
          "output_type": "stream",
          "name": "stdout",
          "text": [
            "Confusion Matrix:\n",
            " [[16207  1820]\n",
            " [  170  5609]]\n"
          ]
        },
        {
          "output_type": "display_data",
          "data": {
            "text/plain": [
              "<Figure size 600x500 with 2 Axes>"
            ],
            "image/png": "[encoded data removed]"
          },
          "metadata": {}
        },
        {
          "output_type": "stream",
          "name": "stdout",
          "text": [
            "\n",
            "🎯 Model Performance Metrics:\n",
            "✅ Accuracy: 0.9164\n",
            "⚠️ Precision: 0.7550\n",
            "🔍 Recall: 0.9706\n",
            "📊 F1-score: 0.8493\n",
            "\n",
            "📑 Classification Report:\n",
            "               precision    recall  f1-score   support\n",
            "\n",
            "           0       0.99      0.90      0.94     18027\n",
            "           1       0.76      0.97      0.85      5779\n",
            "\n",
            "    accuracy                           0.92     23806\n",
            "   macro avg       0.87      0.93      0.90     23806\n",
            "weighted avg       0.93      0.92      0.92     23806\n",
            "\n"
          ]
        }
      ]
    },
    {
      "cell_type": "code",
      "source": [
        "import numpy as np\n",
        "import joblib\n",
        "import pandas as pd\n",
        "\n",
        "# Load the saved scaler and label encoders\n",
        "scaler = joblib.load(\"scaler.pkl\")\n",
        "label_encoders = joblib.load(\"label_encoders.pkl\")\n",
        "\n",
        "def preprocess_transaction(transaction):\n",
        "    # Convert dictionary to DataFrame for processing\n",
        "    df = pd.DataFrame([transaction])\n",
        "\n",
        "    # Convert 'Time' (HH:MM) to numerical (total minutes in a day)\n",
        "    df[\"Hour\"] = df[\"Time\"].apply(lambda x: int(x.split(\":\")[0]))\n",
        "    df[\"Minute\"] = df[\"Time\"].apply(lambda x: int(x.split(\":\")[1]))\n",
        "    df[\"Time_in_Minutes\"] = df[\"Hour\"] * 60 + df[\"Minute\"]\n",
        "    df.drop(columns=[\"Time\", \"Hour\", \"Minute\"], inplace=True)\n",
        "\n",
        "    # Apply label encoding\n",
        "    categorical_cols = [\"Use_Chip\", \"Merchant_City\", \"Merchant_State\"]\n",
        "    for col in categorical_cols:\n",
        "        df[col] = label_encoders[col].transform(df[col])  # Transform existing categories\n",
        "\n",
        "    # Convert numeric values\n",
        "    df[\"Amount\"] = df[\"Amount\"].astype(float)\n",
        "\n",
        "    # Normalize numerical features\n",
        "    df[[\"Amount\", \"Time_in_Minutes\"]] = scaler.transform(df[[\"Amount\", \"Time_in_Minutes\"]])\n",
        "\n",
        "    # Convert to NumPy array\n",
        "    transaction_array = df.to_numpy()\n",
        "\n",
        "    print(transaction_array)\n",
        "\n",
        "    return transaction_array"
      ],
      "metadata": {
        "id": "mBGyArxir11P"
      },
      "execution_count": 20,
      "outputs": []
    },
    {
      "cell_type": "code",
      "source": [
        "import joblib\n",
        "import torch\n",
        "import numpy as np\n",
        "\n",
        "# Load Saved Models\n",
        "xgb_model = joblib.load(\"/content/xgb_fraud_model.pkl\")\n",
        "print(\"✅ XGBoost Model Loaded Successfully!\")\n",
        "\n",
        "class LSTMModel(nn.Module):\n",
        "    def __init__(self, input_size, hidden_size, output_size):\n",
        "        super(LSTMModel, self).__init__()\n",
        "        self.lstm = nn.LSTM(input_size, hidden_size, batch_first=True)\n",
        "        self.fc = nn.Linear(hidden_size, output_size)\n",
        "        self.sigmoid = nn.Sigmoid()\n",
        "\n",
        "    def forward(self, x):\n",
        "        lstm_out, _ = self.lstm(x)\n",
        "        final_out = self.fc(lstm_out[:, -1, :])\n",
        "        return self.sigmoid(final_out)\n",
        "\n",
        "# Set input_size = 5 (Matching the selected features)\n",
        "lstm_model = LSTMModel(input_size=5, hidden_size=64, output_size=1)\n",
        "\n",
        "# lstm_model = LSTMModel(input_size=5, hidden_size=64, output_size=1)\n",
        "\n",
        "# Load LSTM Model\n",
        "lstm_model.load_state_dict(torch.load(\"/content/lstm_fraud_model.pth\"))\n",
        "lstm_model.eval()  # Set LSTM to evaluation mode\n",
        "print(\"✅ LSTM Model Loaded Successfully!\")\n",
        "\n",
        "# Define Function to Predict Fraud\n",
        "def predict_fraud(test_transaction):\n",
        "    \"\"\"Predict fraud probability using Hybrid Model\"\"\"\n",
        "\n",
        "    # Extract only the required LSTM features (Modify as per dataset)\n",
        "    transaction_lstm = test_transaction[:5]  # Ensure it has only 5 features\n",
        "\n",
        "    # XGBoost Prediction\n",
        "    xgb_pred = xgb_model.predict_proba([test_transaction])[0][1]  # Probability of fraud\n",
        "\n",
        "    # LSTM expects a sequence of transactions.\n",
        "    lstm_input = np.tile(transaction_lstm, (5, 1))  # Repeat transaction 5 times\n",
        "    lstm_input = torch.tensor(lstm_input, dtype=torch.float32).unsqueeze(0)  # Shape: (1, 5, 5)\n",
        "\n",
        "    # LSTM Prediction\n",
        "    with torch.no_grad():\n",
        "        lstm_pred = lstm_model(lstm_input).item()  # Convert tensor to float\n",
        "\n",
        "    # Combine predictions (Weighted Average)\n",
        "    final_score = (0.6 * xgb_pred) + (0.4 * lstm_pred)\n",
        "    return final_score\n",
        "\n",
        "transaction = {\n",
        "    \"User\": 200,\n",
        "    \"Card\": 1,\n",
        "    \"Year\": 2025,\n",
        "    \"Month\": 2,\n",
        "    \"Day\": 25,\n",
        "    \"Time\": \"14:30\",\n",
        "    \"Amount\": \"5000.00\",\n",
        "    \"Use_Chip\": \"Online Transaction\",\n",
        "    \"Merchant_Name\": \"Amazon\",\n",
        "    \"Merchant_City\": \"New York\",\n",
        "    \"Merchant_State\": \"NY\",\n",
        "    \"Zip\": \"6093\",\n",
        "    \"MCC\": 5411,\n",
        "}\n",
        "\n",
        "# Example Test Transaction (From Your Test Dataset)\n",
        "test_transaction = preprocess_transaction(transaction) # Get first test transaction\n",
        "test_transaction\n",
        "fraud_risk = predict_fraud(test_transaction)\n",
        "\n",
        "# Print Fraud Risk Score\n",
        "print(f\"\\n🚨 Fraud Risk Score: {fraud_risk:.4f}\")\n",
        "if fraud_risk > 0.5:\n",
        "    print(\"⚠️ High Fraud Risk!\")\n",
        "else:\n",
        "    print(\"✅ Transaction is Safe.\")\n"
      ],
      "metadata": {
        "colab": {
          "base_uri": "https://localhost:8080/",
          "height": 510
        },
        "id": "wo2WVXN2ajiV",
        "outputId": "d93e6cf0-be9b-4451-f492-ac02efe7258a"
      },
      "execution_count": 26,
      "outputs": [
        {
          "output_type": "stream",
          "name": "stdout",
          "text": [
            "✅ XGBoost Model Loaded Successfully!\n",
            "✅ LSTM Model Loaded Successfully!\n",
            "[[200 1 2025 2 25 38.413299160615296 1 'Amazon' 2763 69 '6093' 5411\n",
            "  0.3658982745563476]]\n"
          ]
        },
        {
          "output_type": "stream",
          "name": "stderr",
          "text": [
            "<ipython-input-26-3b44337a6290>:27: FutureWarning: You are using `torch.load` with `weights_only=False` (the current default value), which uses the default pickle module implicitly. It is possible to construct malicious pickle data which will execute arbitrary code during unpickling (See https://github.com/pytorch/pytorch/blob/main/SECURITY.md#untrusted-models for more details). In a future release, the default value for `weights_only` will be flipped to `True`. This limits the functions that could be executed during unpickling. Arbitrary objects will no longer be allowed to be loaded via this mode unless they are explicitly allowlisted by the user via `torch.serialization.add_safe_globals`. We recommend you start setting `weights_only=True` for any use case where you don't have full control of the loaded file. Please open an issue on GitHub for any issues related to this experimental feature.\n",
            "  lstm_model.load_state_dict(torch.load(\"/content/lstm_fraud_model.pth\"))\n"
          ]
        },
        {
          "output_type": "error",
          "ename": "ValueError",
          "evalue": "Feature shape mismatch, expected: 13, got 1",
          "traceback": [
            "\u001b[0;31m---------------------------------------------------------------------------\u001b[0m",
            "\u001b[0;31mValueError\u001b[0m                                Traceback (most recent call last)",
            "\u001b[0;32m<ipython-input-26-3b44337a6290>\u001b[0m in \u001b[0;36m<cell line: 0>\u001b[0;34m()\u001b[0m\n\u001b[1;32m     70\u001b[0m \u001b[0mtest_transaction\u001b[0m \u001b[0;34m=\u001b[0m \u001b[0mpreprocess_transaction\u001b[0m\u001b[0;34m(\u001b[0m\u001b[0mtransaction\u001b[0m\u001b[0;34m)\u001b[0m \u001b[0;31m# Get first test transaction\u001b[0m\u001b[0;34m\u001b[0m\u001b[0;34m\u001b[0m\u001b[0m\n\u001b[1;32m     71\u001b[0m \u001b[0mtest_transaction\u001b[0m\u001b[0;34m\u001b[0m\u001b[0;34m\u001b[0m\u001b[0m\n\u001b[0;32m---> 72\u001b[0;31m \u001b[0mfraud_risk\u001b[0m \u001b[0;34m=\u001b[0m \u001b[0mpredict_fraud\u001b[0m\u001b[0;34m(\u001b[0m\u001b[0mtest_transaction\u001b[0m\u001b[0;34m)\u001b[0m\u001b[0;34m\u001b[0m\u001b[0;34m\u001b[0m\u001b[0m\n\u001b[0m\u001b[1;32m     73\u001b[0m \u001b[0;34m\u001b[0m\u001b[0m\n\u001b[1;32m     74\u001b[0m \u001b[0;31m# Print Fraud Risk Score\u001b[0m\u001b[0;34m\u001b[0m\u001b[0;34m\u001b[0m\u001b[0m\n",
            "\u001b[0;32m<ipython-input-26-3b44337a6290>\u001b[0m in \u001b[0;36mpredict_fraud\u001b[0;34m(test_transaction)\u001b[0m\n\u001b[1;32m     37\u001b[0m \u001b[0;34m\u001b[0m\u001b[0m\n\u001b[1;32m     38\u001b[0m     \u001b[0;31m# XGBoost Prediction\u001b[0m\u001b[0;34m\u001b[0m\u001b[0;34m\u001b[0m\u001b[0m\n\u001b[0;32m---> 39\u001b[0;31m     \u001b[0mxgb_pred\u001b[0m \u001b[0;34m=\u001b[0m \u001b[0mxgb_model\u001b[0m\u001b[0;34m.\u001b[0m\u001b[0mpredict_proba\u001b[0m\u001b[0;34m(\u001b[0m\u001b[0;34m[\u001b[0m\u001b[0mtest_transaction\u001b[0m\u001b[0;34m]\u001b[0m\u001b[0;34m)\u001b[0m\u001b[0;34m[\u001b[0m\u001b[0;36m0\u001b[0m\u001b[0;34m]\u001b[0m\u001b[0;34m[\u001b[0m\u001b[0;36m1\u001b[0m\u001b[0;34m]\u001b[0m  \u001b[0;31m# Probability of fraud\u001b[0m\u001b[0;34m\u001b[0m\u001b[0;34m\u001b[0m\u001b[0m\n\u001b[0m\u001b[1;32m     40\u001b[0m \u001b[0;34m\u001b[0m\u001b[0m\n\u001b[1;32m     41\u001b[0m     \u001b[0;31m# LSTM expects a sequence of transactions.\u001b[0m\u001b[0;34m\u001b[0m\u001b[0;34m\u001b[0m\u001b[0m\n",
            "\u001b[0;32m/usr/local/lib/python3.11/dist-packages/xgboost/sklearn.py\u001b[0m in \u001b[0;36mpredict_proba\u001b[0;34m(self, X, validate_features, base_margin, iteration_range)\u001b[0m\n\u001b[1;32m   1710\u001b[0m             \u001b[0mclass_prob\u001b[0m \u001b[0;34m=\u001b[0m \u001b[0msoftmax\u001b[0m\u001b[0;34m(\u001b[0m\u001b[0mraw_predt\u001b[0m\u001b[0;34m,\u001b[0m \u001b[0maxis\u001b[0m\u001b[0;34m=\u001b[0m\u001b[0;36m1\u001b[0m\u001b[0;34m)\u001b[0m\u001b[0;34m\u001b[0m\u001b[0;34m\u001b[0m\u001b[0m\n\u001b[1;32m   1711\u001b[0m             \u001b[0;32mreturn\u001b[0m \u001b[0mclass_prob\u001b[0m\u001b[0;34m\u001b[0m\u001b[0;34m\u001b[0m\u001b[0m\n\u001b[0;32m-> 1712\u001b[0;31m         class_probs = super().predict(\n\u001b[0m\u001b[1;32m   1713\u001b[0m             \u001b[0mX\u001b[0m\u001b[0;34m=\u001b[0m\u001b[0mX\u001b[0m\u001b[0;34m,\u001b[0m\u001b[0;34m\u001b[0m\u001b[0;34m\u001b[0m\u001b[0m\n\u001b[1;32m   1714\u001b[0m             \u001b[0mvalidate_features\u001b[0m\u001b[0;34m=\u001b[0m\u001b[0mvalidate_features\u001b[0m\u001b[0;34m,\u001b[0m\u001b[0;34m\u001b[0m\u001b[0;34m\u001b[0m\u001b[0m\n",
            "\u001b[0;32m/usr/local/lib/python3.11/dist-packages/xgboost/sklearn.py\u001b[0m in \u001b[0;36mpredict\u001b[0;34m(self, X, output_margin, validate_features, base_margin, iteration_range)\u001b[0m\n\u001b[1;32m   1246\u001b[0m             \u001b[0;32mif\u001b[0m \u001b[0mself\u001b[0m\u001b[0;34m.\u001b[0m\u001b[0m_can_use_inplace_predict\u001b[0m\u001b[0;34m(\u001b[0m\u001b[0;34m)\u001b[0m\u001b[0;34m:\u001b[0m\u001b[0;34m\u001b[0m\u001b[0;34m\u001b[0m\u001b[0m\n\u001b[1;32m   1247\u001b[0m                 \u001b[0;32mtry\u001b[0m\u001b[0;34m:\u001b[0m\u001b[0;34m\u001b[0m\u001b[0;34m\u001b[0m\u001b[0m\n\u001b[0;32m-> 1248\u001b[0;31m                     predts = self.get_booster().inplace_predict(\n\u001b[0m\u001b[1;32m   1249\u001b[0m                         \u001b[0mdata\u001b[0m\u001b[0;34m=\u001b[0m\u001b[0mX\u001b[0m\u001b[0;34m,\u001b[0m\u001b[0;34m\u001b[0m\u001b[0;34m\u001b[0m\u001b[0m\n\u001b[1;32m   1250\u001b[0m                         \u001b[0miteration_range\u001b[0m\u001b[0;34m=\u001b[0m\u001b[0miteration_range\u001b[0m\u001b[0;34m,\u001b[0m\u001b[0;34m\u001b[0m\u001b[0;34m\u001b[0m\u001b[0m\n",
            "\u001b[0;32m/usr/local/lib/python3.11/dist-packages/xgboost/core.py\u001b[0m in \u001b[0;36minplace_predict\u001b[0;34m(self, data, iteration_range, predict_type, missing, validate_features, base_margin, strict_shape)\u001b[0m\n\u001b[1;32m   2522\u001b[0m                 )\n\u001b[1;32m   2523\u001b[0m             \u001b[0;32mif\u001b[0m \u001b[0mlen\u001b[0m\u001b[0;34m(\u001b[0m\u001b[0mdata\u001b[0m\u001b[0;34m.\u001b[0m\u001b[0mshape\u001b[0m\u001b[0;34m)\u001b[0m \u001b[0;34m!=\u001b[0m \u001b[0;36m1\u001b[0m \u001b[0;32mand\u001b[0m \u001b[0mself\u001b[0m\u001b[0;34m.\u001b[0m\u001b[0mnum_features\u001b[0m\u001b[0;34m(\u001b[0m\u001b[0;34m)\u001b[0m \u001b[0;34m!=\u001b[0m \u001b[0mdata\u001b[0m\u001b[0;34m.\u001b[0m\u001b[0mshape\u001b[0m\u001b[0;34m[\u001b[0m\u001b[0;36m1\u001b[0m\u001b[0;34m]\u001b[0m\u001b[0;34m:\u001b[0m\u001b[0;34m\u001b[0m\u001b[0;34m\u001b[0m\u001b[0m\n\u001b[0;32m-> 2524\u001b[0;31m                 raise ValueError(\n\u001b[0m\u001b[1;32m   2525\u001b[0m                     \u001b[0;34mf\"Feature shape mismatch, expected: {self.num_features()}, \"\u001b[0m\u001b[0;34m\u001b[0m\u001b[0;34m\u001b[0m\u001b[0m\n\u001b[1;32m   2526\u001b[0m                     \u001b[0;34mf\"got {data.shape[1]}\"\u001b[0m\u001b[0;34m\u001b[0m\u001b[0;34m\u001b[0m\u001b[0m\n",
            "\u001b[0;31mValueError\u001b[0m: Feature shape mismatch, expected: 13, got 1"
          ]
        }
      ]
    },
    {
      "cell_type": "code",
      "source": [
        "X_test.iloc[900]"
      ],
      "metadata": {
        "colab": {
          "base_uri": "https://localhost:8080/",
          "height": 492
        },
        "id": "X6b_a5W1gDJI",
        "outputId": "8393c3f9-e1da-4c0d-ce02-3ce78796b25d"
      },
      "execution_count": 7,
      "outputs": [
        {
          "output_type": "execute_result",
          "data": {
            "text/plain": [
              "User               7.830000e+02\n",
              "Card               3.000000e+00\n",
              "Year               2.017000e+03\n",
              "Month              5.000000e+00\n",
              "Day                5.000000e+00\n",
              "Amount            -4.927403e-01\n",
              "Use_Chip           0.000000e+00\n",
              "Merchant_Name     -6.571010e+18\n",
              "Merchant_City      6.360000e+02\n",
              "Merchant_State     9.100000e+01\n",
              "Zip                6.240000e+03\n",
              "MCC                5.499000e+03\n",
              "Time_in_Minutes   -6.270681e-01\n",
              "Name: 62669, dtype: float64"
            ],
            "text/html": [
              "<div>\n",
              "<style scoped>\n",
              "    .dataframe tbody tr th:only-of-type {\n",
              "        vertical-align: middle;\n",
              "    }\n",
              "\n",
              "    .dataframe tbody tr th {\n",
              "        vertical-align: top;\n",
              "    }\n",
              "\n",
              "    .dataframe thead th {\n",
              "        text-align: right;\n",
              "    }\n",
              "</style>\n",
              "<table border=\"1\" class=\"dataframe\">\n",
              "  <thead>\n",
              "    <tr style=\"text-align: right;\">\n",
              "      <th></th>\n",
              "      <th>62669</th>\n",
              "    </tr>\n",
              "  </thead>\n",
              "  <tbody>\n",
              "    <tr>\n",
              "      <th>User</th>\n",
              "      <td>7.830000e+02</td>\n",
              "    </tr>\n",
              "    <tr>\n",
              "      <th>Card</th>\n",
              "      <td>3.000000e+00</td>\n",
              "    </tr>\n",
              "    <tr>\n",
              "      <th>Year</th>\n",
              "      <td>2.017000e+03</td>\n",
              "    </tr>\n",
              "    <tr>\n",
              "      <th>Month</th>\n",
              "      <td>5.000000e+00</td>\n",
              "    </tr>\n",
              "    <tr>\n",
              "      <th>Day</th>\n",
              "      <td>5.000000e+00</td>\n",
              "    </tr>\n",
              "    <tr>\n",
              "      <th>Amount</th>\n",
              "      <td>-4.927403e-01</td>\n",
              "    </tr>\n",
              "    <tr>\n",
              "      <th>Use_Chip</th>\n",
              "      <td>0.000000e+00</td>\n",
              "    </tr>\n",
              "    <tr>\n",
              "      <th>Merchant_Name</th>\n",
              "      <td>-6.571010e+18</td>\n",
              "    </tr>\n",
              "    <tr>\n",
              "      <th>Merchant_City</th>\n",
              "      <td>6.360000e+02</td>\n",
              "    </tr>\n",
              "    <tr>\n",
              "      <th>Merchant_State</th>\n",
              "      <td>9.100000e+01</td>\n",
              "    </tr>\n",
              "    <tr>\n",
              "      <th>Zip</th>\n",
              "      <td>6.240000e+03</td>\n",
              "    </tr>\n",
              "    <tr>\n",
              "      <th>MCC</th>\n",
              "      <td>5.499000e+03</td>\n",
              "    </tr>\n",
              "    <tr>\n",
              "      <th>Time_in_Minutes</th>\n",
              "      <td>-6.270681e-01</td>\n",
              "    </tr>\n",
              "  </tbody>\n",
              "</table>\n",
              "</div><br><label><b>dtype:</b> float64</label>"
            ]
          },
          "metadata": {},
          "execution_count": 7
        }
      ]
    },
    {
      "cell_type": "code",
      "source": [],
      "metadata": {
        "colab": {
          "base_uri": "https://localhost:8080/",
          "height": 382
        },
        "id": "gGGCUKtKrBq8",
        "outputId": "2b99fc99-5e66-4013-eb65-376c0358e16a"
      },
      "execution_count": 32,
      "outputs": [
        {
          "output_type": "error",
          "ename": "IndexError",
          "evalue": "only integers, slices (`:`), ellipsis (`...`), numpy.newaxis (`None`) and integer or boolean arrays are valid indices",
          "traceback": [
            "\u001b[0;31m---------------------------------------------------------------------------\u001b[0m",
            "\u001b[0;31mIndexError\u001b[0m                                Traceback (most recent call last)",
            "\u001b[0;32m<ipython-input-32-c77b88795d80>\u001b[0m in \u001b[0;36m<cell line: 0>\u001b[0;34m()\u001b[0m\n\u001b[1;32m     76\u001b[0m }\n\u001b[1;32m     77\u001b[0m \u001b[0;34m\u001b[0m\u001b[0m\n\u001b[0;32m---> 78\u001b[0;31m \u001b[0mfraud_risk\u001b[0m \u001b[0;34m=\u001b[0m \u001b[0mpredict_fraud\u001b[0m\u001b[0;34m(\u001b[0m\u001b[0mtransaction\u001b[0m\u001b[0;34m)\u001b[0m\u001b[0;34m\u001b[0m\u001b[0;34m\u001b[0m\u001b[0m\n\u001b[0m\u001b[1;32m     79\u001b[0m \u001b[0;34m\u001b[0m\u001b[0m\n\u001b[1;32m     80\u001b[0m \u001b[0mprint\u001b[0m\u001b[0;34m(\u001b[0m\u001b[0;34mf\"\\n🚨 Fraud Risk Score: {fraud_risk:.4f}\"\u001b[0m\u001b[0;34m)\u001b[0m\u001b[0;34m\u001b[0m\u001b[0;34m\u001b[0m\u001b[0m\n",
            "\u001b[0;32m<ipython-input-32-c77b88795d80>\u001b[0m in \u001b[0;36mpredict_fraud\u001b[0;34m(transaction)\u001b[0m\n\u001b[1;32m     41\u001b[0m     \u001b[0;34m\"\"\"Predict fraud probability using Hybrid Model.\"\"\"\u001b[0m\u001b[0;34m\u001b[0m\u001b[0;34m\u001b[0m\u001b[0m\n\u001b[1;32m     42\u001b[0m \u001b[0;34m\u001b[0m\u001b[0m\n\u001b[0;32m---> 43\u001b[0;31m     \u001b[0mxgb_input\u001b[0m\u001b[0;34m,\u001b[0m \u001b[0mlstm_input\u001b[0m \u001b[0;34m=\u001b[0m \u001b[0mpreprocess_transaction\u001b[0m\u001b[0;34m(\u001b[0m\u001b[0mtransaction\u001b[0m\u001b[0;34m,\u001b[0m \u001b[0mlabel_encoders\u001b[0m\u001b[0;34m,\u001b[0m \u001b[0mscaler\u001b[0m\u001b[0;34m)\u001b[0m\u001b[0;34m\u001b[0m\u001b[0;34m\u001b[0m\u001b[0m\n\u001b[0m\u001b[1;32m     44\u001b[0m \u001b[0;34m\u001b[0m\u001b[0m\n\u001b[1;32m     45\u001b[0m     \u001b[0;31m# XGBoost Prediction\u001b[0m\u001b[0;34m\u001b[0m\u001b[0;34m\u001b[0m\u001b[0m\n",
            "\u001b[0;32m<ipython-input-32-c77b88795d80>\u001b[0m in \u001b[0;36mpreprocess_transaction\u001b[0;34m(transaction, label_encoders, scaler)\u001b[0m\n\u001b[1;32m     21\u001b[0m     \u001b[0mcategorical_cols\u001b[0m \u001b[0;34m=\u001b[0m \u001b[0;34m[\u001b[0m\u001b[0;34m\"Use_Chip\"\u001b[0m\u001b[0;34m,\u001b[0m \u001b[0;34m\"Merchant_City\"\u001b[0m\u001b[0;34m,\u001b[0m \u001b[0;34m\"Merchant_State\"\u001b[0m\u001b[0;34m,\u001b[0m \u001b[0;34m\"Zip\"\u001b[0m\u001b[0;34m,\u001b[0m \u001b[0;34m\"Merchant_Name\"\u001b[0m\u001b[0;34m]\u001b[0m\u001b[0;34m\u001b[0m\u001b[0;34m\u001b[0m\u001b[0m\n\u001b[1;32m     22\u001b[0m     \u001b[0;32mfor\u001b[0m \u001b[0mcol\u001b[0m \u001b[0;32min\u001b[0m \u001b[0mcategorical_cols\u001b[0m\u001b[0;34m:\u001b[0m\u001b[0;34m\u001b[0m\u001b[0;34m\u001b[0m\u001b[0m\n\u001b[0;32m---> 23\u001b[0;31m         \u001b[0;32mif\u001b[0m \u001b[0mtransaction\u001b[0m\u001b[0;34m[\u001b[0m\u001b[0mcol\u001b[0m\u001b[0;34m]\u001b[0m \u001b[0;32min\u001b[0m \u001b[0mlabel_encoders\u001b[0m\u001b[0;34m[\u001b[0m\u001b[0mcol\u001b[0m\u001b[0;34m]\u001b[0m\u001b[0;34m.\u001b[0m\u001b[0mclasses_\u001b[0m \u001b[0;34m:\u001b[0m\u001b[0;34m\u001b[0m\u001b[0;34m\u001b[0m\u001b[0m\n\u001b[0m\u001b[1;32m     24\u001b[0m             \u001b[0mtransaction\u001b[0m\u001b[0;34m[\u001b[0m\u001b[0mcol\u001b[0m\u001b[0;34m]\u001b[0m \u001b[0;34m=\u001b[0m \u001b[0mlabel_encoders\u001b[0m\u001b[0;34m[\u001b[0m\u001b[0mcol\u001b[0m\u001b[0;34m]\u001b[0m\u001b[0;34m.\u001b[0m\u001b[0mtransform\u001b[0m\u001b[0;34m(\u001b[0m\u001b[0;34m[\u001b[0m\u001b[0mtransaction\u001b[0m\u001b[0;34m[\u001b[0m\u001b[0mcol\u001b[0m\u001b[0;34m]\u001b[0m\u001b[0;34m]\u001b[0m\u001b[0;34m)\u001b[0m\u001b[0;34m[\u001b[0m\u001b[0;36m0\u001b[0m\u001b[0;34m]\u001b[0m\u001b[0;34m\u001b[0m\u001b[0;34m\u001b[0m\u001b[0m\n\u001b[1;32m     25\u001b[0m         \u001b[0;32melse\u001b[0m\u001b[0;34m:\u001b[0m\u001b[0;34m\u001b[0m\u001b[0;34m\u001b[0m\u001b[0m\n",
            "\u001b[0;31mIndexError\u001b[0m: only integers, slices (`:`), ellipsis (`...`), numpy.newaxis (`None`) and integer or boolean arrays are valid indices"
          ]
        }
      ]
    },
    {
      "cell_type": "code",
      "source": [],
      "metadata": {
        "id": "KDCO4WcbyG1C"
      },
      "execution_count": null,
      "outputs": []
    }
  ]
}